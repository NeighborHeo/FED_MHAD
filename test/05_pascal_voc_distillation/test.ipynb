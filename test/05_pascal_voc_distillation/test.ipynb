{
 "cells": [
  {
   "cell_type": "code",
   "execution_count": 1,
   "metadata": {},
   "outputs": [
    {
     "name": "stderr",
     "output_type": "stream",
     "text": [
      "/home/suncheol/code/FedTest/.venv/lib/python3.8/site-packages/tqdm/auto.py:21: TqdmWarning: IProgress not found. Please update jupyter and ipywidgets. See https://ipywidgets.readthedocs.io/en/stable/user_install.html\n",
      "  from .autonotebook import tqdm as notebook_tqdm\n",
      "Using cache found in /home/suncheol/.cache/torch/hub/NVIDIA_DeepLearningExamples_torchhub\n"
     ]
    },
    {
     "data": {
      "text/plain": [
       "odict_keys(['stem.conv.weight', 'stem.bn.weight', 'stem.bn.bias', 'stem.bn.running_mean', 'stem.bn.running_var', 'stem.bn.num_batches_tracked', 'layers.0.block0.depsep.conv.weight', 'layers.0.block0.depsep.bn.weight', 'layers.0.block0.depsep.bn.bias', 'layers.0.block0.depsep.bn.running_mean', 'layers.0.block0.depsep.bn.running_var', 'layers.0.block0.depsep.bn.num_batches_tracked', 'layers.0.block0.se.squeeze.weight', 'layers.0.block0.se.squeeze.bias', 'layers.0.block0.se.expand.weight', 'layers.0.block0.se.expand.bias', 'layers.0.block0.proj.conv.weight', 'layers.0.block0.proj.bn.weight', 'layers.0.block0.proj.bn.bias', 'layers.0.block0.proj.bn.running_mean', 'layers.0.block0.proj.bn.running_var', 'layers.0.block0.proj.bn.num_batches_tracked', 'layers.1.block0.expand.conv.weight', 'layers.1.block0.expand.bn.weight', 'layers.1.block0.expand.bn.bias', 'layers.1.block0.expand.bn.running_mean', 'layers.1.block0.expand.bn.running_var', 'layers.1.block0.expand.bn.num_batches_tracked', 'layers.1.block0.depsep.conv.weight', 'layers.1.block0.depsep.bn.weight', 'layers.1.block0.depsep.bn.bias', 'layers.1.block0.depsep.bn.running_mean', 'layers.1.block0.depsep.bn.running_var', 'layers.1.block0.depsep.bn.num_batches_tracked', 'layers.1.block0.se.squeeze.weight', 'layers.1.block0.se.squeeze.bias', 'layers.1.block0.se.expand.weight', 'layers.1.block0.se.expand.bias', 'layers.1.block0.proj.conv.weight', 'layers.1.block0.proj.bn.weight', 'layers.1.block0.proj.bn.bias', 'layers.1.block0.proj.bn.running_mean', 'layers.1.block0.proj.bn.running_var', 'layers.1.block0.proj.bn.num_batches_tracked', 'layers.1.block1.expand.conv.weight', 'layers.1.block1.expand.bn.weight', 'layers.1.block1.expand.bn.bias', 'layers.1.block1.expand.bn.running_mean', 'layers.1.block1.expand.bn.running_var', 'layers.1.block1.expand.bn.num_batches_tracked', 'layers.1.block1.depsep.conv.weight', 'layers.1.block1.depsep.bn.weight', 'layers.1.block1.depsep.bn.bias', 'layers.1.block1.depsep.bn.running_mean', 'layers.1.block1.depsep.bn.running_var', 'layers.1.block1.depsep.bn.num_batches_tracked', 'layers.1.block1.se.squeeze.weight', 'layers.1.block1.se.squeeze.bias', 'layers.1.block1.se.expand.weight', 'layers.1.block1.se.expand.bias', 'layers.1.block1.proj.conv.weight', 'layers.1.block1.proj.bn.weight', 'layers.1.block1.proj.bn.bias', 'layers.1.block1.proj.bn.running_mean', 'layers.1.block1.proj.bn.running_var', 'layers.1.block1.proj.bn.num_batches_tracked', 'layers.2.block0.expand.conv.weight', 'layers.2.block0.expand.bn.weight', 'layers.2.block0.expand.bn.bias', 'layers.2.block0.expand.bn.running_mean', 'layers.2.block0.expand.bn.running_var', 'layers.2.block0.expand.bn.num_batches_tracked', 'layers.2.block0.depsep.conv.weight', 'layers.2.block0.depsep.bn.weight', 'layers.2.block0.depsep.bn.bias', 'layers.2.block0.depsep.bn.running_mean', 'layers.2.block0.depsep.bn.running_var', 'layers.2.block0.depsep.bn.num_batches_tracked', 'layers.2.block0.se.squeeze.weight', 'layers.2.block0.se.squeeze.bias', 'layers.2.block0.se.expand.weight', 'layers.2.block0.se.expand.bias', 'layers.2.block0.proj.conv.weight', 'layers.2.block0.proj.bn.weight', 'layers.2.block0.proj.bn.bias', 'layers.2.block0.proj.bn.running_mean', 'layers.2.block0.proj.bn.running_var', 'layers.2.block0.proj.bn.num_batches_tracked', 'layers.2.block1.expand.conv.weight', 'layers.2.block1.expand.bn.weight', 'layers.2.block1.expand.bn.bias', 'layers.2.block1.expand.bn.running_mean', 'layers.2.block1.expand.bn.running_var', 'layers.2.block1.expand.bn.num_batches_tracked', 'layers.2.block1.depsep.conv.weight', 'layers.2.block1.depsep.bn.weight', 'layers.2.block1.depsep.bn.bias', 'layers.2.block1.depsep.bn.running_mean', 'layers.2.block1.depsep.bn.running_var', 'layers.2.block1.depsep.bn.num_batches_tracked', 'layers.2.block1.se.squeeze.weight', 'layers.2.block1.se.squeeze.bias', 'layers.2.block1.se.expand.weight', 'layers.2.block1.se.expand.bias', 'layers.2.block1.proj.conv.weight', 'layers.2.block1.proj.bn.weight', 'layers.2.block1.proj.bn.bias', 'layers.2.block1.proj.bn.running_mean', 'layers.2.block1.proj.bn.running_var', 'layers.2.block1.proj.bn.num_batches_tracked', 'layers.3.block0.expand.conv.weight', 'layers.3.block0.expand.bn.weight', 'layers.3.block0.expand.bn.bias', 'layers.3.block0.expand.bn.running_mean', 'layers.3.block0.expand.bn.running_var', 'layers.3.block0.expand.bn.num_batches_tracked', 'layers.3.block0.depsep.conv.weight', 'layers.3.block0.depsep.bn.weight', 'layers.3.block0.depsep.bn.bias', 'layers.3.block0.depsep.bn.running_mean', 'layers.3.block0.depsep.bn.running_var', 'layers.3.block0.depsep.bn.num_batches_tracked', 'layers.3.block0.se.squeeze.weight', 'layers.3.block0.se.squeeze.bias', 'layers.3.block0.se.expand.weight', 'layers.3.block0.se.expand.bias', 'layers.3.block0.proj.conv.weight', 'layers.3.block0.proj.bn.weight', 'layers.3.block0.proj.bn.bias', 'layers.3.block0.proj.bn.running_mean', 'layers.3.block0.proj.bn.running_var', 'layers.3.block0.proj.bn.num_batches_tracked', 'layers.3.block1.expand.conv.weight', 'layers.3.block1.expand.bn.weight', 'layers.3.block1.expand.bn.bias', 'layers.3.block1.expand.bn.running_mean', 'layers.3.block1.expand.bn.running_var', 'layers.3.block1.expand.bn.num_batches_tracked', 'layers.3.block1.depsep.conv.weight', 'layers.3.block1.depsep.bn.weight', 'layers.3.block1.depsep.bn.bias', 'layers.3.block1.depsep.bn.running_mean', 'layers.3.block1.depsep.bn.running_var', 'layers.3.block1.depsep.bn.num_batches_tracked', 'layers.3.block1.se.squeeze.weight', 'layers.3.block1.se.squeeze.bias', 'layers.3.block1.se.expand.weight', 'layers.3.block1.se.expand.bias', 'layers.3.block1.proj.conv.weight', 'layers.3.block1.proj.bn.weight', 'layers.3.block1.proj.bn.bias', 'layers.3.block1.proj.bn.running_mean', 'layers.3.block1.proj.bn.running_var', 'layers.3.block1.proj.bn.num_batches_tracked', 'layers.3.block2.expand.conv.weight', 'layers.3.block2.expand.bn.weight', 'layers.3.block2.expand.bn.bias', 'layers.3.block2.expand.bn.running_mean', 'layers.3.block2.expand.bn.running_var', 'layers.3.block2.expand.bn.num_batches_tracked', 'layers.3.block2.depsep.conv.weight', 'layers.3.block2.depsep.bn.weight', 'layers.3.block2.depsep.bn.bias', 'layers.3.block2.depsep.bn.running_mean', 'layers.3.block2.depsep.bn.running_var', 'layers.3.block2.depsep.bn.num_batches_tracked', 'layers.3.block2.se.squeeze.weight', 'layers.3.block2.se.squeeze.bias', 'layers.3.block2.se.expand.weight', 'layers.3.block2.se.expand.bias', 'layers.3.block2.proj.conv.weight', 'layers.3.block2.proj.bn.weight', 'layers.3.block2.proj.bn.bias', 'layers.3.block2.proj.bn.running_mean', 'layers.3.block2.proj.bn.running_var', 'layers.3.block2.proj.bn.num_batches_tracked', 'layers.4.block0.expand.conv.weight', 'layers.4.block0.expand.bn.weight', 'layers.4.block0.expand.bn.bias', 'layers.4.block0.expand.bn.running_mean', 'layers.4.block0.expand.bn.running_var', 'layers.4.block0.expand.bn.num_batches_tracked', 'layers.4.block0.depsep.conv.weight', 'layers.4.block0.depsep.bn.weight', 'layers.4.block0.depsep.bn.bias', 'layers.4.block0.depsep.bn.running_mean', 'layers.4.block0.depsep.bn.running_var', 'layers.4.block0.depsep.bn.num_batches_tracked', 'layers.4.block0.se.squeeze.weight', 'layers.4.block0.se.squeeze.bias', 'layers.4.block0.se.expand.weight', 'layers.4.block0.se.expand.bias', 'layers.4.block0.proj.conv.weight', 'layers.4.block0.proj.bn.weight', 'layers.4.block0.proj.bn.bias', 'layers.4.block0.proj.bn.running_mean', 'layers.4.block0.proj.bn.running_var', 'layers.4.block0.proj.bn.num_batches_tracked', 'layers.4.block1.expand.conv.weight', 'layers.4.block1.expand.bn.weight', 'layers.4.block1.expand.bn.bias', 'layers.4.block1.expand.bn.running_mean', 'layers.4.block1.expand.bn.running_var', 'layers.4.block1.expand.bn.num_batches_tracked', 'layers.4.block1.depsep.conv.weight', 'layers.4.block1.depsep.bn.weight', 'layers.4.block1.depsep.bn.bias', 'layers.4.block1.depsep.bn.running_mean', 'layers.4.block1.depsep.bn.running_var', 'layers.4.block1.depsep.bn.num_batches_tracked', 'layers.4.block1.se.squeeze.weight', 'layers.4.block1.se.squeeze.bias', 'layers.4.block1.se.expand.weight', 'layers.4.block1.se.expand.bias', 'layers.4.block1.proj.conv.weight', 'layers.4.block1.proj.bn.weight', 'layers.4.block1.proj.bn.bias', 'layers.4.block1.proj.bn.running_mean', 'layers.4.block1.proj.bn.running_var', 'layers.4.block1.proj.bn.num_batches_tracked', 'layers.4.block2.expand.conv.weight', 'layers.4.block2.expand.bn.weight', 'layers.4.block2.expand.bn.bias', 'layers.4.block2.expand.bn.running_mean', 'layers.4.block2.expand.bn.running_var', 'layers.4.block2.expand.bn.num_batches_tracked', 'layers.4.block2.depsep.conv.weight', 'layers.4.block2.depsep.bn.weight', 'layers.4.block2.depsep.bn.bias', 'layers.4.block2.depsep.bn.running_mean', 'layers.4.block2.depsep.bn.running_var', 'layers.4.block2.depsep.bn.num_batches_tracked', 'layers.4.block2.se.squeeze.weight', 'layers.4.block2.se.squeeze.bias', 'layers.4.block2.se.expand.weight', 'layers.4.block2.se.expand.bias', 'layers.4.block2.proj.conv.weight', 'layers.4.block2.proj.bn.weight', 'layers.4.block2.proj.bn.bias', 'layers.4.block2.proj.bn.running_mean', 'layers.4.block2.proj.bn.running_var', 'layers.4.block2.proj.bn.num_batches_tracked', 'layers.5.block0.expand.conv.weight', 'layers.5.block0.expand.bn.weight', 'layers.5.block0.expand.bn.bias', 'layers.5.block0.expand.bn.running_mean', 'layers.5.block0.expand.bn.running_var', 'layers.5.block0.expand.bn.num_batches_tracked', 'layers.5.block0.depsep.conv.weight', 'layers.5.block0.depsep.bn.weight', 'layers.5.block0.depsep.bn.bias', 'layers.5.block0.depsep.bn.running_mean', 'layers.5.block0.depsep.bn.running_var', 'layers.5.block0.depsep.bn.num_batches_tracked', 'layers.5.block0.se.squeeze.weight', 'layers.5.block0.se.squeeze.bias', 'layers.5.block0.se.expand.weight', 'layers.5.block0.se.expand.bias', 'layers.5.block0.proj.conv.weight', 'layers.5.block0.proj.bn.weight', 'layers.5.block0.proj.bn.bias', 'layers.5.block0.proj.bn.running_mean', 'layers.5.block0.proj.bn.running_var', 'layers.5.block0.proj.bn.num_batches_tracked', 'layers.5.block1.expand.conv.weight', 'layers.5.block1.expand.bn.weight', 'layers.5.block1.expand.bn.bias', 'layers.5.block1.expand.bn.running_mean', 'layers.5.block1.expand.bn.running_var', 'layers.5.block1.expand.bn.num_batches_tracked', 'layers.5.block1.depsep.conv.weight', 'layers.5.block1.depsep.bn.weight', 'layers.5.block1.depsep.bn.bias', 'layers.5.block1.depsep.bn.running_mean', 'layers.5.block1.depsep.bn.running_var', 'layers.5.block1.depsep.bn.num_batches_tracked', 'layers.5.block1.se.squeeze.weight', 'layers.5.block1.se.squeeze.bias', 'layers.5.block1.se.expand.weight', 'layers.5.block1.se.expand.bias', 'layers.5.block1.proj.conv.weight', 'layers.5.block1.proj.bn.weight', 'layers.5.block1.proj.bn.bias', 'layers.5.block1.proj.bn.running_mean', 'layers.5.block1.proj.bn.running_var', 'layers.5.block1.proj.bn.num_batches_tracked', 'layers.5.block2.expand.conv.weight', 'layers.5.block2.expand.bn.weight', 'layers.5.block2.expand.bn.bias', 'layers.5.block2.expand.bn.running_mean', 'layers.5.block2.expand.bn.running_var', 'layers.5.block2.expand.bn.num_batches_tracked', 'layers.5.block2.depsep.conv.weight', 'layers.5.block2.depsep.bn.weight', 'layers.5.block2.depsep.bn.bias', 'layers.5.block2.depsep.bn.running_mean', 'layers.5.block2.depsep.bn.running_var', 'layers.5.block2.depsep.bn.num_batches_tracked', 'layers.5.block2.se.squeeze.weight', 'layers.5.block2.se.squeeze.bias', 'layers.5.block2.se.expand.weight', 'layers.5.block2.se.expand.bias', 'layers.5.block2.proj.conv.weight', 'layers.5.block2.proj.bn.weight', 'layers.5.block2.proj.bn.bias', 'layers.5.block2.proj.bn.running_mean', 'layers.5.block2.proj.bn.running_var', 'layers.5.block2.proj.bn.num_batches_tracked', 'layers.5.block3.expand.conv.weight', 'layers.5.block3.expand.bn.weight', 'layers.5.block3.expand.bn.bias', 'layers.5.block3.expand.bn.running_mean', 'layers.5.block3.expand.bn.running_var', 'layers.5.block3.expand.bn.num_batches_tracked', 'layers.5.block3.depsep.conv.weight', 'layers.5.block3.depsep.bn.weight', 'layers.5.block3.depsep.bn.bias', 'layers.5.block3.depsep.bn.running_mean', 'layers.5.block3.depsep.bn.running_var', 'layers.5.block3.depsep.bn.num_batches_tracked', 'layers.5.block3.se.squeeze.weight', 'layers.5.block3.se.squeeze.bias', 'layers.5.block3.se.expand.weight', 'layers.5.block3.se.expand.bias', 'layers.5.block3.proj.conv.weight', 'layers.5.block3.proj.bn.weight', 'layers.5.block3.proj.bn.bias', 'layers.5.block3.proj.bn.running_mean', 'layers.5.block3.proj.bn.running_var', 'layers.5.block3.proj.bn.num_batches_tracked', 'layers.6.block0.expand.conv.weight', 'layers.6.block0.expand.bn.weight', 'layers.6.block0.expand.bn.bias', 'layers.6.block0.expand.bn.running_mean', 'layers.6.block0.expand.bn.running_var', 'layers.6.block0.expand.bn.num_batches_tracked', 'layers.6.block0.depsep.conv.weight', 'layers.6.block0.depsep.bn.weight', 'layers.6.block0.depsep.bn.bias', 'layers.6.block0.depsep.bn.running_mean', 'layers.6.block0.depsep.bn.running_var', 'layers.6.block0.depsep.bn.num_batches_tracked', 'layers.6.block0.se.squeeze.weight', 'layers.6.block0.se.squeeze.bias', 'layers.6.block0.se.expand.weight', 'layers.6.block0.se.expand.bias', 'layers.6.block0.proj.conv.weight', 'layers.6.block0.proj.bn.weight', 'layers.6.block0.proj.bn.bias', 'layers.6.block0.proj.bn.running_mean', 'layers.6.block0.proj.bn.running_var', 'layers.6.block0.proj.bn.num_batches_tracked', 'features.conv.weight', 'features.bn.weight', 'features.bn.bias', 'features.bn.running_mean', 'features.bn.running_var', 'features.bn.num_batches_tracked', 'classifier.fc.weight', 'classifier.fc.bias'])"
      ]
     },
     "execution_count": 1,
     "metadata": {},
     "output_type": "execute_result"
    }
   ],
   "source": [
    "import torch\n",
    "import utils\n",
    "\n",
    "model = utils.load_efficientnet(classes=10)\n",
    "state_dict = model.state_dict()\n",
    "state_dict.keys()"
   ]
  },
  {
   "cell_type": "code",
   "execution_count": null,
   "metadata": {},
   "outputs": [],
   "source": [
    "\n",
    "# load state dict \n",
    "state_dict2 = torch.load('/home/suncheol/code/FedTest/FED_MHAD/test/flower_advanced_pytorch/client_0_lr_0.5_stps_100000_bch_501.pt')\n",
    "state_dict2.keys()"
   ]
  },
  {
   "cell_type": "code",
   "execution_count": null,
   "metadata": {},
   "outputs": [],
   "source": [
    "state_dict3 = torch.load('/home/suncheol/code/FedTest/FED_MHAD/test/flower_advanced_pytorch/client_0_lr_0.5_stps_100000_bch_502.pt')\n",
    "state_dict3.keys()"
   ]
  },
  {
   "cell_type": "code",
   "execution_count": null,
   "metadata": {},
   "outputs": [],
   "source": []
  }
 ],
 "metadata": {
  "kernelspec": {
   "display_name": ".venv",
   "language": "python",
   "name": "python3"
  },
  "language_info": {
   "codemirror_mode": {
    "name": "ipython",
    "version": 3
   },
   "file_extension": ".py",
   "mimetype": "text/x-python",
   "name": "python",
   "nbconvert_exporter": "python",
   "pygments_lexer": "ipython3",
   "version": "3.9.12"
  },
  "orig_nbformat": 4
 },
 "nbformat": 4,
 "nbformat_minor": 2
}
