{
 "cells": [
  {
   "cell_type": "code",
   "execution_count": null,
   "metadata": {},
   "outputs": [],
   "source": [
    "import pathlib\n",
    "import torch\n",
    "import torchvision\n",
    "from torchvision.transforms.functional import InterpolationMode\n",
    "import numpy as np\n",
    "\n",
    "transform = torchvision.transforms.Compose([\n",
    "    torchvision.transforms.Resize(224, interpolation=InterpolationMode.NEAREST),\n",
    "    torchvision.transforms.ToTensor()\n",
    "])\n",
    "\n",
    "file_path = pathlib.Path(\"~/.data\").expanduser() / \"cifar10\" / \"cifar10_224.npz\"\n",
    "print(file_path)\n",
    "if not file_path.exists():\n",
    "    print(\"no file in path\")\n",
    "    trainset = torchvision.datasets.CIFAR10(\"~/.data\", train=True, download=False, transform=transform)\n",
    "    testset = torchvision.datasets.CIFAR10(\"~/.data\", train=False, download=False, transform=transform)"
   ]
  },
  {
   "cell_type": "code",
   "execution_count": null,
   "metadata": {},
   "outputs": [],
   "source": [
    "train_loader = torch.utils.data.DataLoader(trainset, batch_size=128, shuffle=False)\n",
    "test_loader = torch.utils.data.DataLoader(testset, batch_size=128, shuffle=False)"
   ]
  },
  {
   "cell_type": "code",
   "execution_count": null,
   "metadata": {},
   "outputs": [],
   "source": [
    "imgs = []\n",
    "labels = []\n",
    "for batch_idx, (inputs, targets) in enumerate(train_loader):\n",
    "    imgs.append(inputs)\n",
    "    labels.append(targets)\n",
    "imgs = torch.cat(imgs, dim=0)\n",
    "labels = torch.cat(labels, dim=0)"
   ]
  },
  {
   "cell_type": "code",
   "execution_count": null,
   "metadata": {},
   "outputs": [],
   "source": [
    "\n",
    "file_path = pathlib.Path(\"~/.data\").expanduser() / \"cifar10\" / \"cifar10_train_224_images.npy\"\n",
    "np.save(file_path, imgs.numpy())\n",
    "file_path = pathlib.Path(\"~/.data\").expanduser() / \"cifar10\" / \"cifar10_train_224_labels.npy\"\n",
    "np.save(file_path, labels.numpy())"
   ]
  },
  {
   "cell_type": "code",
   "execution_count": 5,
   "metadata": {},
   "outputs": [],
   "source": [
    "imgs = []\n",
    "labels = []\n",
    "for batch_idx, (inputs, targets) in enumerate(test_loader):\n",
    "    imgs.append(inputs)\n",
    "    labels.append(targets)\n",
    "imgs = torch.cat(imgs, dim=0)\n",
    "labels = torch.cat(labels, dim=0)"
   ]
  },
  {
   "cell_type": "code",
   "execution_count": null,
   "metadata": {},
   "outputs": [],
   "source": [
    "import numpy as np\n",
    "file_path = pathlib.Path(\"~/.data\").expanduser() / \"cifar10\" / \"cifar10_test_224_images.npy\"\n",
    "np.save(file_path, imgs.numpy())\n",
    "file_path = pathlib.Path(\"~/.data\").expanduser() / \"cifar10\" / \"cifar10_test_224_labels.npy\"\n",
    "np.save(file_path, labels.numpy())"
   ]
  },
  {
   "cell_type": "code",
   "execution_count": null,
   "metadata": {},
   "outputs": [],
   "source": [
    "file_path = pathlib.Path(\"~/.data\").expanduser() / \"cifar10\" / \"cifar10_test_224_images.npy\"\n",
    "test_imgs = np.load(file_path)\n",
    "file_path = pathlib.Path(\"~/.data\").expanduser() / \"cifar10\" / \"cifar10_test_224_labels.npy\"\n",
    "test_labels = np.load(file_path)"
   ]
  },
  {
   "cell_type": "code",
   "execution_count": null,
   "metadata": {},
   "outputs": [],
   "source": [
    "labels_tags = ['airplane', 'automobile', 'bird', 'cat', 'deer', 'dog', 'frog', 'horse', 'ship', 'truck']\n",
    "# draw sample image \n",
    "import matplotlib.pyplot as plt\n",
    "image = test_imgs.transpose(0, 2, 3, 1)[0]\n",
    "plt.imshow(image)\n",
    "plt.title(labels_tags[labels[0]])\n",
    "plt.show()\n"
   ]
  }
 ],
 "metadata": {
  "kernelspec": {
   "display_name": ".venv",
   "language": "python",
   "name": "python3"
  },
  "language_info": {
   "codemirror_mode": {
    "name": "ipython",
    "version": 3
   },
   "file_extension": ".py",
   "mimetype": "text/x-python",
   "name": "python",
   "nbconvert_exporter": "python",
   "pygments_lexer": "ipython3",
   "version": "3.8.13"
  },
  "orig_nbformat": 4
 },
 "nbformat": 4,
 "nbformat_minor": 2
}
